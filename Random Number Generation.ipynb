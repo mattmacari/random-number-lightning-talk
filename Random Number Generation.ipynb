{
 "cells": [
  {
   "cell_type": "markdown",
   "metadata": {},
   "source": [
    "# Random Number Generation\n",
    "\n",
    "## What are random number generators?\n",
    "\n",
    "* A _random number generator (RNG)_ is a device that generates a sequence of numbers or symbols that cannot be reasonably predicted by random chance.\n",
    "\n",
    "* There are two classes of RNGs:\n",
    "\n",
    "  * Hardware random-number generators (HRNG) generate geniunely random numbers\n",
    "  * Pseudo-Random Number Generators (PRNG) generate numbers that look random but are actually deterministic."
   ]
  },
  {
   "cell_type": "code",
   "execution_count": null,
   "metadata": {},
   "outputs": [],
   "source": [
    "import random\n",
    "\n",
    "# Get a random number\n",
    "\n",
    "print(random.randint(0, 10))\n",
    "\n",
    "# set the seed to make sure the output doesn't change\n",
    "random.seed(10)\n",
    "# this will always produce the same output\n",
    "obs_output = [random.random() for _ in range(0, 10)]\n",
    "\n",
    "exp_output = [0.5714025946899135, 0.4288890546751146, 0.5780913011344704, 0.20609823213950174,\n",
    "              0.81332125135732, 0.8235888725334455, 0.6534725339011758, 0.16022955651881965,\n",
    "              0.5206693596399246, 0.32777281162209315]\n",
    "\n",
    "print(obs_output)\n",
    "assert obs_output == exp_output"
   ]
  },
  {
   "cell_type": "code",
   "execution_count": null,
   "metadata": {},
   "outputs": [],
   "source": [
    "print([random.random() for _ in range(0, 10)])"
   ]
  },
  {
   "cell_type": "markdown",
   "metadata": {},
   "source": [
    "## Practical Applications of RNGs\n",
    "* RNGs have applications in areas such as gambling, statistical sampling, computer simulation, cryptography, and other areas where unpredictable results are desirable.\n",
    "* If having unpredictability is paramount, such as in security applications, hardware generators are generally preferred over PRNGs.\n",
    "* Some applications don’t require true randomness - “Random Quote of the Day” or a system that “randomly” selects music from a playlist - they must only appear random, but may not be fully random.\n"
   ]
  },
  {
   "cell_type": "code",
   "execution_count": null,
   "metadata": {},
   "outputs": [],
   "source": [
    "# Generate some random data from a normal distribution, and do some fun stuff...\n",
    "import statistics\n",
    "\n",
    "random_data = [random.gauss(0, 1) for _ in range(10000)]\n",
    "\n",
    "print(random_data[0:10])\n",
    "\n",
    "mean = statistics.mean(random_data)\n",
    "stdev = statistics.stdev(random_data)\n",
    "\n",
    "print('mean: {}, stdev: {}'.format(mean, stdev))"
   ]
  },
  {
   "cell_type": "code",
   "execution_count": null,
   "metadata": {},
   "outputs": [],
   "source": [
    "# Generate a random sample some random IQ data\n",
    "\n",
    "pop_mean = 100\n",
    "std_dev = 10\n",
    "\n",
    "n_size = 100000\n",
    "sample_size = 100\n",
    "\n",
    "population_data = [random.normalvariate(pop_mean, std_dev) for _ in range(n_size)]\n",
    "\n",
    "print(population_data[0:10])\n",
    "\n",
    "# Does the sample differ from the population?\n",
    "\n",
    "sample_data = random.sample(population_data, sample_size)\n",
    "\n",
    "print(sample_data[0:10])\n",
    "\n",
    "sample_mean = statistics.mean(sample_data)\n",
    "sample_stdev = statistics.stdev(sample_data)\n",
    "\n",
    "print('mean: {}, stdev: {}'.format(sample_mean, sample_stdev))"
   ]
  },
  {
   "cell_type": "code",
   "execution_count": null,
   "metadata": {},
   "outputs": [],
   "source": [
    "# Generate a random quote of the day...\n",
    "\n",
    "quotations = [\n",
    "    \"The best measure of a man's honesty isn't his income tax return. It's the zero adjust on his bathroom scale.\"\n",
    "    \"Vote early and vote often.\",\n",
    "    \"Life is full of misery, loneliness, and suffering - and it's all over much too soon.\",\n",
    "    \"The words that enlighten the soul are more precious than jewels.\",\n",
    "    \"Only two things are infinite, the universe and human stupidity, and I'm not sure about the former.\",\n",
    "    \"I believe that a scientist looking at nonscientific problems is just as dumb as the next guy.\",\n",
    "    \"You can know the name of a bird in all the languages of the world, but when you're finished, you'll know absolutely nothing whatever about the bird... So let's look at the bird and see what it's doing -- that's what counts. I learned very early the difference between knowing the name of something and knowing something.\"\n",
    "]\n",
    "\n",
    "print(random.choice(quotations))"
   ]
  },
  {
   "cell_type": "markdown",
   "metadata": {},
   "source": [
    "## Randomness Extractors\n",
    "\n",
    "A _randomness extractor_ is a mathematical function that when applied to a weakly random source, together with a short random seed will generate a highly random output that appears independent from the source and is uniformly distributed."
   ]
  },
  {
   "cell_type": "code",
   "execution_count": null,
   "metadata": {},
   "outputs": [],
   "source": [
    "from typing import List\n",
    "\n",
    "def generate_sequence(int_list: List[int], length: int=100) -> List[int]:\n",
    "    \"\"\"\n",
    "    Generates a sequence of int values from a list\n",
    "    \n",
    "    :param int_list: list of integers to generate the sequence\n",
    "    :param length: length of the sequence to generate\n",
    "    \"\"\"\n",
    "    return [random.choice(int_list) for _ in range(length)]\n",
    "\n",
    "choices = [0, 1]\n",
    "\n",
    "seq = generate_sequence(choices, 100000)\n",
    "\n",
    "mean = statistics.mean(seq)\n",
    "stdev = statistics.stdev(seq)\n",
    "\n",
    "print('mean: {}, stdev: {}'.format(mean, stdev))"
   ]
  },
  {
   "cell_type": "markdown",
   "metadata": {},
   "source": [
    "### Von Neumann extractor\n",
    "\n",
    "The earliest and simpliest example is due to John von Neumann.  His extractor took sucessive pairs of non-overlapping bits in an input stream.  The algorithm looks at successive pairs of bits and returns an output if the bits differ, then the value of the first bit is returned.\n",
    "\n",
    "The Von Neumann extractor can produce a uniform output even if the distribution has nonuniform input bits so long as each bit has the same probability and there is no correlation between the successive bits. "
   ]
  },
  {
   "cell_type": "code",
   "execution_count": null,
   "metadata": {},
   "outputs": [],
   "source": [
    "# Build a Von Neumann filter\n",
    "def von_neumann_filter(bit0, bit1):\n",
    "    return ''.join([str(bit0), str(bit1)]) if bit0 != bit1 else None\n",
    "\n",
    "paired_list = list(zip(seq[::2], seq[1::2]))\n",
    "\n",
    "print(len(paired_list))"
   ]
  },
  {
   "cell_type": "code",
   "execution_count": null,
   "metadata": {
    "scrolled": true
   },
   "outputs": [],
   "source": [
    "print(paired_list[0:10])\n",
    "\n",
    "von_neumann_filter(*paired_list[2])"
   ]
  },
  {
   "cell_type": "code",
   "execution_count": null,
   "metadata": {},
   "outputs": [],
   "source": [
    "new_seq = [int(von_neumann_filter(*elem), 2) for elem in paired_list if von_neumann_filter(*elem)]\n",
    "print(len(new_seq))\n",
    "\n",
    "print(new_seq[0:10])"
   ]
  },
  {
   "cell_type": "code",
   "execution_count": null,
   "metadata": {},
   "outputs": [],
   "source": [
    "mean = statistics.mean(new_seq)\n",
    "stdev = statistics.stdev(new_seq)\n",
    "\n",
    "print('mean: {}, stdev: {}'.format(mean, stdev))"
   ]
  }
 ],
 "metadata": {
  "kernelspec": {
   "display_name": "Python 3",
   "language": "python",
   "name": "python3"
  },
  "language_info": {
   "codemirror_mode": {
    "name": "ipython",
    "version": 3
   },
   "file_extension": ".py",
   "mimetype": "text/x-python",
   "name": "python",
   "nbconvert_exporter": "python",
   "pygments_lexer": "ipython3",
   "version": "3.7.1"
  }
 },
 "nbformat": 4,
 "nbformat_minor": 2
}
